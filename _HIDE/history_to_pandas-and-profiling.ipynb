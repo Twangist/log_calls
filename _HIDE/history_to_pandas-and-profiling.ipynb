{
 "worksheets": [
  {
   "cells": [
    {
     "cell_type": "markdown",
     "metadata": {},
     "source": [
      "This notebook illustrates amassing a medium-sized dataset (1 second of 32- or 64-bit float mono audio, essentially – a simple sine wave) using the `record_history` decorator, and then using the `stats.history_as_DataFrame` attribute to obtain that dataset as a Pandas DataFrame.\n",
      "\n",
      "After that basic (and naive) example, we compare the performance of this approach to one that uses `numpy`'s ability to vectorize the same computation. The conclusion: **if you can vectorize, then by all means do so**. (The example is naive precisely because no one would call the function `f` below in a `for` loop when it's possible to vectorize with `numpy` universal functions (*ufunc*s). When that's not an option, however, `record_history` can come in handy.)"
     ]
    },
    {
     "cell_type": "markdown",
     "metadata": {},
     "source": [
      "# Using the `stats.history_as_DataFrame` attribute"
     ]
    },
    {
     "cell_type": "code",
     "execution_count": null,
     "metadata": {},
     "outputs": [],
     "input": [
      "%matplotlib inline\n",
      "import numpy as np\n",
      "import pandas as pd\n",
      "import matplotlib.pyplot as plt\n",
      "\n",
      "from log_calls import record_history"
     ],
     "language": "python",
     "prompt_number": 2
    },
    {
     "cell_type": "code",
     "execution_count": null,
     "metadata": {},
     "outputs": [],
     "input": [
      "@record_history()\n",
      "def f(freq, t):\n",
      "    return np.sin(freq * 2 * np.pi * t)"
     ],
     "language": "python",
     "prompt_number": 3
    },
    {
     "cell_type": "code",
     "execution_count": null,
     "metadata": {},
     "outputs": [
      {
       "output_type": "pyout",
       "prompt_number": 4,
       "text": [
        "array([  0.00000000e+00,   2.26757365e-05,   4.53514731e-05, ...,\n         9.99931931e-01,   9.99954641e-01,   9.99977291e-01], dtype=float32)"
       ],
       "metadata": {}
      }
     ],
     "input": [
      "ran_t = np.arange(0.0, 1.0, 1/44100, dtype=np.float32)\n",
      "ran_t"
     ],
     "language": "python",
     "prompt_number": 4
    },
    {
     "cell_type": "markdown",
     "metadata": {},
     "source": [
      "**Now, naively, call f 44,100 times in a `for` loop, and obtain its call history as a `Pandas` `DataFrame`:**"
     ]
    },
    {
     "cell_type": "code",
     "execution_count": null,
     "metadata": {},
     "outputs": [],
     "input": [
      "#f.stats.clear_history()\n",
      "for t in ran_t: \n",
      "    f(17, t)\n",
      "df = f.stats.history_as_DataFrame"
     ],
     "language": "python",
     "prompt_number": 5
    },
    {
     "cell_type": "markdown",
     "metadata": {},
     "source": [
      "**Examine and do stuff with it:**"
     ]
    },
    {
     "cell_type": "code",
     "execution_count": null,
     "metadata": {},
     "outputs": [
      {
       "output_type": "stream",
       "stream": "stdout",
       "text": [
        "<class 'pandas.core.frame.DataFrame'>\nInt64Index: 44100 entries, 1 to 44100\nData columns (total 8 columns):\nfreq              44100 non-null int64\nt                 44100 non-null float64\nretval            44100 non-null float64\nelapsed_secs      44100 non-null float64\nprocess_secs      44100 non-null float64\ntimestamp         44100 non-null object\nprefixed_fname    44100 non-null object\ncaller_chain      44100 non-null object\ndtypes: float64(4), int64(1), object(3)\nmemory usage: 3.0+ MB\n"
       ]
      }
     ],
     "input": [
      "df.info()"
     ],
     "language": "python",
     "prompt_number": 6
    },
    {
     "cell_type": "code",
     "execution_count": null,
     "metadata": {},
     "outputs": [
      {
       "output_type": "pyout",
       "html": [
        "<div>\n",
        "<table border=\"1\" class=\"dataframe\">\n",
        "  <thead>\n",
        "    <tr style=\"text-align: right;\">\n",
        "      <th></th>\n",
        "      <th>freq</th>\n",
        "      <th>t</th>\n",
        "      <th>retval</th>\n",
        "      <th>elapsed_secs</th>\n",
        "      <th>process_secs</th>\n",
        "      <th>timestamp</th>\n",
        "      <th>prefixed_fname</th>\n",
        "      <th>caller_chain</th>\n",
        "    </tr>\n",
        "    <tr>\n",
        "      <th>call_num</th>\n",
        "      <th></th>\n",
        "      <th></th>\n",
        "      <th></th>\n",
        "      <th></th>\n",
        "      <th></th>\n",
        "      <th></th>\n",
        "      <th></th>\n",
        "      <th></th>\n",
        "    </tr>\n",
        "  </thead>\n",
        "  <tbody>\n",
        "    <tr>\n",
        "      <th>1</th>\n",
        "      <td>17</td>\n",
        "      <td>0.000000</td>\n",
        "      <td>0.000000</td>\n",
        "      <td>0.000053</td>\n",
        "      <td>0.000053</td>\n",
        "      <td>02/05/16 18:08:58.608079</td>\n",
        "      <td>'f'</td>\n",
        "      <td>['&lt;module&gt;']</td>\n",
        "    </tr>\n",
        "    <tr>\n",
        "      <th>2</th>\n",
        "      <td>17</td>\n",
        "      <td>0.000023</td>\n",
        "      <td>0.002422</td>\n",
        "      <td>0.000022</td>\n",
        "      <td>0.000021</td>\n",
        "      <td>02/05/16 18:08:58.608403</td>\n",
        "      <td>'f'</td>\n",
        "      <td>['&lt;module&gt;']</td>\n",
        "    </tr>\n",
        "    <tr>\n",
        "      <th>3</th>\n",
        "      <td>17</td>\n",
        "      <td>0.000045</td>\n",
        "      <td>0.004844</td>\n",
        "      <td>0.000020</td>\n",
        "      <td>0.000020</td>\n",
        "      <td>02/05/16 18:08:58.608650</td>\n",
        "      <td>'f'</td>\n",
        "      <td>['&lt;module&gt;']</td>\n",
        "    </tr>\n",
        "    <tr>\n",
        "      <th>4</th>\n",
        "      <td>17</td>\n",
        "      <td>0.000068</td>\n",
        "      <td>0.007266</td>\n",
        "      <td>0.000020</td>\n",
        "      <td>0.000020</td>\n",
        "      <td>02/05/16 18:08:58.608899</td>\n",
        "      <td>'f'</td>\n",
        "      <td>['&lt;module&gt;']</td>\n",
        "    </tr>\n",
        "    <tr>\n",
        "      <th>5</th>\n",
        "      <td>17</td>\n",
        "      <td>0.000091</td>\n",
        "      <td>0.009688</td>\n",
        "      <td>0.000020</td>\n",
        "      <td>0.000019</td>\n",
        "      <td>02/05/16 18:08:58.609138</td>\n",
        "      <td>'f'</td>\n",
        "      <td>['&lt;module&gt;']</td>\n",
        "    </tr>\n",
        "  </tbody>\n",
        "</table>\n",
        "</div>"
       ],
       "metadata": {}
      },
      {
       "output_type": "pyout",
       "html": [
        "<div>\n",
        "<table border=\"1\" class=\"dataframe\">\n",
        "  <thead>\n",
        "    <tr style=\"text-align: right;\">\n",
        "      <th></th>\n",
        "      <th>freq</th>\n",
        "      <th>t</th>\n",
        "      <th>retval</th>\n",
        "      <th>elapsed_secs</th>\n",
        "      <th>process_secs</th>\n",
        "      <th>timestamp</th>\n",
        "      <th>prefixed_fname</th>\n",
        "      <th>caller_chain</th>\n",
        "    </tr>\n",
        "    <tr>\n",
        "      <th>call_num</th>\n",
        "      <th></th>\n",
        "      <th></th>\n",
        "      <th></th>\n",
        "      <th></th>\n",
        "      <th></th>\n",
        "      <th></th>\n",
        "      <th></th>\n",
        "      <th></th>\n",
        "    </tr>\n",
        "  </thead>\n",
        "  <tbody>\n",
        "    <tr>\n",
        "      <th>44096</th>\n",
        "      <td>17</td>\n",
        "      <td>0.999887</td>\n",
        "      <td>-0.012109</td>\n",
        "      <td>0.000012</td>\n",
        "      <td>0.000013</td>\n",
        "      <td>02/05/16 18:09:06.579978</td>\n",
        "      <td>'f'</td>\n",
        "      <td>['&lt;module&gt;']</td>\n",
        "    </tr>\n",
        "    <tr>\n",
        "      <th>44097</th>\n",
        "      <td>17</td>\n",
        "      <td>0.999909</td>\n",
        "      <td>-0.009690</td>\n",
        "      <td>0.000021</td>\n",
        "      <td>0.000021</td>\n",
        "      <td>02/05/16 18:09:06.580143</td>\n",
        "      <td>'f'</td>\n",
        "      <td>['&lt;module&gt;']</td>\n",
        "    </tr>\n",
        "    <tr>\n",
        "      <th>44098</th>\n",
        "      <td>17</td>\n",
        "      <td>0.999932</td>\n",
        "      <td>-0.007271</td>\n",
        "      <td>0.000012</td>\n",
        "      <td>0.000012</td>\n",
        "      <td>02/05/16 18:09:06.580324</td>\n",
        "      <td>'f'</td>\n",
        "      <td>['&lt;module&gt;']</td>\n",
        "    </tr>\n",
        "    <tr>\n",
        "      <th>44099</th>\n",
        "      <td>17</td>\n",
        "      <td>0.999955</td>\n",
        "      <td>-0.004845</td>\n",
        "      <td>0.000012</td>\n",
        "      <td>0.000012</td>\n",
        "      <td>02/05/16 18:09:06.580482</td>\n",
        "      <td>'f'</td>\n",
        "      <td>['&lt;module&gt;']</td>\n",
        "    </tr>\n",
        "    <tr>\n",
        "      <th>44100</th>\n",
        "      <td>17</td>\n",
        "      <td>0.999977</td>\n",
        "      <td>-0.002426</td>\n",
        "      <td>0.000012</td>\n",
        "      <td>0.000012</td>\n",
        "      <td>02/05/16 18:09:06.580647</td>\n",
        "      <td>'f'</td>\n",
        "      <td>['&lt;module&gt;']</td>\n",
        "    </tr>\n",
        "  </tbody>\n",
        "</table>\n",
        "</div>"
       ],
       "metadata": {}
      }
     ],
     "input": [
      "from IPython.display import display\n",
      "display(df.head())\n",
      "display(df.tail())"
     ],
     "language": "python",
     "prompt_number": 7
    },
    {
     "cell_type": "code",
     "execution_count": null,
     "metadata": {},
     "outputs": [
      {
       "output_type": "pyout",
       "prompt_number": 8,
       "text": [
        "44100"
       ],
       "metadata": {}
      }
     ],
     "input": [
      "len(f.stats.history)"
     ],
     "language": "python",
     "prompt_number": 8
    },
    {
     "cell_type": "code",
     "execution_count": null,
     "metadata": {},
     "outputs": [
      {
       "output_type": "pyout",
       "html": [
        "<div>\n",
        "<table border=\"1\" class=\"dataframe\">\n",
        "  <thead>\n",
        "    <tr style=\"text-align: right;\">\n",
        "      <th></th>\n",
        "      <th>t</th>\n",
        "      <th>retval</th>\n",
        "    </tr>\n",
        "    <tr>\n",
        "      <th>call_num</th>\n",
        "      <th></th>\n",
        "      <th></th>\n",
        "    </tr>\n",
        "  </thead>\n",
        "  <tbody>\n",
        "    <tr>\n",
        "      <th>1</th>\n",
        "      <td>0.000000</td>\n",
        "      <td>0.000000</td>\n",
        "    </tr>\n",
        "    <tr>\n",
        "      <th>2</th>\n",
        "      <td>0.000023</td>\n",
        "      <td>0.002422</td>\n",
        "    </tr>\n",
        "    <tr>\n",
        "      <th>3</th>\n",
        "      <td>0.000045</td>\n",
        "      <td>0.004844</td>\n",
        "    </tr>\n",
        "    <tr>\n",
        "      <th>4</th>\n",
        "      <td>0.000068</td>\n",
        "      <td>0.007266</td>\n",
        "    </tr>\n",
        "    <tr>\n",
        "      <th>5</th>\n",
        "      <td>0.000091</td>\n",
        "      <td>0.009688</td>\n",
        "    </tr>\n",
        "  </tbody>\n",
        "</table>\n",
        "</div>"
       ],
       "metadata": {}
      }
     ],
     "input": [
      "df[['t', 'retval']].head()"
     ],
     "language": "python",
     "prompt_number": 9
    },
    {
     "cell_type": "code",
     "execution_count": null,
     "metadata": {},
     "outputs": [
      {
       "output_type": "display_data",
       "png": "[encoded data removed]",
       "text": [
        "<matplotlib.figure.Figure at 0x109de76a0>"
       ],
       "metadata": {}
      }
     ],
     "input": [
      "plt.plot(df.t, df.retval);"
     ],
     "language": "python",
     "prompt_number": 10
    },
    {
     "cell_type": "markdown",
     "metadata": {},
     "source": [
      "---"
     ]
    },
    {
     "cell_type": "markdown",
     "metadata": {},
     "source": [
      "#Comparing performance: `record_history` *vs* vectorization with numpy *ufunc*s"
     ]
    },
    {
     "cell_type": "markdown",
     "metadata": {},
     "source": [
      "##(1) No decorator"
     ]
    },
    {
     "cell_type": "markdown",
     "metadata": {},
     "source": [
      "###*With no decorator, it's ~2.8 orders of magnitude faster to use a function as a numpy ufunc than to call it in a for loop (looping through ran_t)*"
     ]
    },
    {
     "cell_type": "code",
     "execution_count": null,
     "metadata": {},
     "outputs": [],
     "input": [
      "def g(freq, t):\n",
      "    return np.sin(freq * 2 * np.pi * t)"
     ],
     "language": "python",
     "prompt_number": 11
    },
    {
     "cell_type": "markdown",
     "metadata": {},
     "source": [
      "####Vectorized:"
     ]
    },
    {
     "cell_type": "code",
     "execution_count": null,
     "metadata": {},
     "outputs": [
      {
       "output_type": "stream",
       "stream": "stdout",
       "text": [
        "1000 loops, best of 3: 448 µs per loop\n"
       ]
      },
      {
       "output_type": "pyout",
       "prompt_number": 13,
       "text": [
        "0.00044780372502282263"
       ],
       "metadata": {}
      }
     ],
     "input": [
      "Hz_17 = g(17, ran_t)\n",
      "nodeco_vectorized_secs = %timeit -o Hz_17 = g(17, ran_t)\n",
      "nodeco_vectorized_secs.best"
     ],
     "language": "python",
     "prompt_number": 13
    },
    {
     "cell_type": "code",
     "execution_count": null,
     "metadata": {},
     "outputs": [
      {
       "output_type": "pyout",
       "prompt_number": 14,
       "text": [
        "array([ 0.        ,  0.00242209,  0.00484416, ..., -0.00727302,\n       -0.00484692, -0.00242842], dtype=float32)"
       ],
       "metadata": {}
      }
     ],
     "input": [
      "Hz_17"
     ],
     "language": "python",
     "prompt_number": 14
    },
    {
     "cell_type": "code",
     "execution_count": null,
     "metadata": {},
     "outputs": [
      {
       "output_type": "display_data",
       "png": "[encoded data removed]",
       "text": [
        "<matplotlib.figure.Figure at 0x110ee80f0>"
       ],
       "metadata": {}
      }
     ],
     "input": [
      "plt.plot(Hz_17);"
     ],
     "language": "python",
     "prompt_number": 15
    },
    {
     "cell_type": "markdown",
     "metadata": {},
     "source": [
      "####With a `for` loop:"
     ]
    },
    {
     "cell_type": "code",
     "execution_count": null,
     "metadata": {},
     "outputs": [
      {
       "output_type": "stream",
       "stream": "stdout",
       "text": [
        "1 loops, best of 3: 222 ms per loop\n"
       ]
      },
      {
       "output_type": "pyout",
       "prompt_number": 16,
       "text": [
        "0.22201205417513847"
       ],
       "metadata": {}
      }
     ],
     "input": [
      "nodeco_loop_secs = %timeit -o for t in ran_t: g(7, t)\n",
      "nodeco_loop_secs.best"
     ],
     "language": "python",
     "prompt_number": 16
    },
    {
     "cell_type": "code",
     "execution_count": null,
     "metadata": {},
     "outputs": [],
     "input": [
      "def comparison(slower, faster):\n",
      "    'slower, faster: seconds'\n",
      "    ratio = slower/faster\n",
      "    order_of_magnitude = np.log10(ratio)\n",
      "    return ratio, order_of_magnitude"
     ],
     "language": "python",
     "prompt_number": 17
    },
    {
     "cell_type": "code",
     "execution_count": null,
     "metadata": {},
     "outputs": [
      {
       "output_type": "stream",
       "stream": "stdout",
       "text": [
        "With no decorator:\nVectorized approach is 495 times (about 2.7 orders of magnitude) faster\n"
       ]
      }
     ],
     "input": [
      "print(\"With no decorator:\\n\"\n",
      "      \"Vectorized approach is %d times (about %.1f orders of magnitude) faster\" \n",
      "      % comparison(slower=nodeco_loop_secs.best, faster=nodeco_vectorized_secs.best))"
     ],
     "language": "python",
     "prompt_number": 18
    },
    {
     "cell_type": "markdown",
     "metadata": {},
     "source": [
      "Now let's compare the performance of the `record_history`-decorated version (`f`) of the same function."
     ]
    },
    {
     "cell_type": "markdown",
     "metadata": {},
     "source": [
      "##(2a) `record_history` disabled with \"true bypass\" (`enabled` setting < 0)"
     ]
    },
    {
     "cell_type": "markdown",
     "metadata": {},
     "source": [
      "### *With record_history disabled and \"true-bypassed\", it's 3.6 orders of magnitude faster to use a function as a numpy ufunc than to call it in a for loop (looping through ran_t)*"
     ]
    },
    {
     "cell_type": "code",
     "execution_count": null,
     "metadata": {},
     "outputs": [],
     "input": [
      "f.stats.clear_history()\n",
      "f.record_history_settings.enabled = -1"
     ],
     "language": "python",
     "prompt_number": 19
    },
    {
     "cell_type": "markdown",
     "metadata": {},
     "source": [
      "####Vectorized:"
     ]
    },
    {
     "cell_type": "code",
     "execution_count": null,
     "metadata": {},
     "outputs": [
      {
       "output_type": "stream",
       "stream": "stdout",
       "text": [
        "1000 loops, best of 3: 489 µs per loop\n"
       ]
      },
      {
       "output_type": "pyout",
       "prompt_number": 20,
       "text": [
        "0.0004888820489868522"
       ],
       "metadata": {}
      }
     ],
     "input": [
      "vectorized_secs_rh_bypass = %timeit -o Hz_17 = f(17, ran_t)\n",
      "vectorized_secs_rh_bypass.best"
     ],
     "language": "python",
     "prompt_number": 20
    },
    {
     "cell_type": "markdown",
     "metadata": {},
     "source": [
      "####With a `for` loop:"
     ]
    },
    {
     "cell_type": "code",
     "execution_count": null,
     "metadata": {},
     "outputs": [
      {
       "output_type": "stream",
       "stream": "stdout",
       "text": [
        "1 loops, best of 3: 2.24 s per loop\n"
       ]
      },
      {
       "output_type": "pyout",
       "prompt_number": 21,
       "text": [
        "2.2396870008669794"
       ],
       "metadata": {}
      }
     ],
     "input": [
      "loop_secs_rh_bypass = %timeit -o for t in ran_t: f(7, t)\n",
      "loop_secs_rh_bypass.best"
     ],
     "language": "python",
     "prompt_number": 21
    },
    {
     "cell_type": "code",
     "execution_count": null,
     "metadata": {},
     "outputs": [
      {
       "output_type": "stream",
       "stream": "stdout",
       "text": [
        "With record_history bypassed:\nVectorized approach is 4581 times (about 3.7 orders of magnitude) faster\n"
       ]
      }
     ],
     "input": [
      "print(\"With record_history bypassed:\\n\"\n",
      "      \"Vectorized approach is %d times (about %.1f orders of magnitude) faster\" \n",
      "      % comparison(slower=loop_secs_rh_bypass.best, faster=vectorized_secs_rh_bypass.best))"
     ],
     "language": "python",
     "prompt_number": 22
    },
    {
     "cell_type": "markdown",
     "metadata": {},
     "source": [
      "###Decorator overhead: about 8x (~0.9 orders of magnitude)"
     ]
    },
    {
     "cell_type": "code",
     "execution_count": null,
     "metadata": {},
     "outputs": [
      {
       "output_type": "stream",
       "stream": "stdout",
       "text": [
        "Called in a for-loop, the no-decorator version is 10 times (about 1.0 orders of magnitude) faster\n"
       ]
      }
     ],
     "input": [
      "print(\"Called in a for-loop, the no-decorator version is %d times (about %.1f orders of magnitude) faster\" \n",
      "      % comparison(slower=loop_secs_rh_bypass.best, faster=nodeco_loop_secs.best))"
     ],
     "language": "python",
     "prompt_number": 23
    },
    {
     "cell_type": "markdown",
     "metadata": {},
     "source": [
      "##(2b) `record_history` disabled  (`enabled == 0`, without \"true bypass\")"
     ]
    },
    {
     "cell_type": "markdown",
     "metadata": {},
     "source": [
      "### *With record_history disabled, it's 3.6 orders of magnitude faster to use a function as a numpy ufunc than to call it in a for loop (looping through ran_t)*"
     ]
    },
    {
     "cell_type": "code",
     "execution_count": null,
     "metadata": {},
     "outputs": [],
     "input": [
      "f.record_history_settings.enabled = False"
     ],
     "language": "python",
     "prompt_number": 24
    },
    {
     "cell_type": "markdown",
     "metadata": {},
     "source": [
      "####Vectorized:"
     ]
    },
    {
     "cell_type": "code",
     "execution_count": null,
     "metadata": {},
     "outputs": [
      {
       "output_type": "stream",
       "stream": "stdout",
       "text": [
        "1000 loops, best of 3: 476 µs per loop\n"
       ]
      },
      {
       "output_type": "pyout",
       "prompt_number": 25,
       "text": [
        "0.00047628119494765996"
       ],
       "metadata": {}
      }
     ],
     "input": [
      "vectorized_secs_rh_disabled = %timeit -o Hz_17 = f(17, ran_t)\n",
      "vectorized_secs_rh_disabled.best"
     ],
     "language": "python",
     "prompt_number": 25
    },
    {
     "cell_type": "markdown",
     "metadata": {},
     "source": [
      "####With a `for` loop:"
     ]
    },
    {
     "cell_type": "code",
     "execution_count": null,
     "metadata": {},
     "outputs": [
      {
       "output_type": "stream",
       "stream": "stdout",
       "text": [
        "1 loops, best of 3: 2.24 s per loop\n"
       ]
      },
      {
       "output_type": "pyout",
       "prompt_number": 26,
       "text": [
        "2.2443361119367182"
       ],
       "metadata": {}
      }
     ],
     "input": [
      "loop_secs_rh_disabled = %timeit -o for t in ran_t: f(7, t)\n",
      "loop_secs_rh_disabled.best"
     ],
     "language": "python",
     "prompt_number": 26
    },
    {
     "cell_type": "code",
     "execution_count": null,
     "metadata": {},
     "outputs": [
      {
       "output_type": "stream",
       "stream": "stdout",
       "text": [
        "With record_history disabled:\nVectorized approach is 4712 times (about 3.7 orders of magnitude) faster\n"
       ]
      }
     ],
     "input": [
      "print(\"With record_history disabled:\\n\"\n",
      "      \"Vectorized approach is %d times (about %.1f orders of magnitude) faster\" \n",
      "      % comparison(slower=loop_secs_rh_disabled.best, faster=vectorized_secs_rh_disabled.best))"
     ],
     "language": "python",
     "prompt_number": 27
    },
    {
     "cell_type": "markdown",
     "metadata": {},
     "source": [
      "### 4263x \"disabled\" *vs* 4199x disabled with \"true bypass\" – so \"true bypass\" provides a very slight speedup."
     ]
    },
    {
     "cell_type": "markdown",
     "metadata": {},
     "source": [
      "##(3) `record_history` enabled"
     ]
    },
    {
     "cell_type": "markdown",
     "metadata": {},
     "source": [
      "### *With record_history enabled, it's 4.1 orders of magnitude faster to use a function as a numpy ufunc than to call it in a for loop (looping through ran_t)*"
     ]
    },
    {
     "cell_type": "code",
     "execution_count": null,
     "metadata": {},
     "outputs": [],
     "input": [
      "f.record_history_settings.enabled = True"
     ],
     "language": "python",
     "prompt_number": 28
    },
    {
     "cell_type": "markdown",
     "metadata": {},
     "source": [
      "####Vectorized:"
     ]
    },
    {
     "cell_type": "code",
     "execution_count": null,
     "metadata": {},
     "outputs": [
      {
       "output_type": "stream",
       "stream": "stdout",
       "text": [
        "1000 loops, best of 3: 648 µs per loop\n"
       ]
      },
      {
       "output_type": "pyout",
       "prompt_number": 29,
       "text": [
        "0.0006480992780998349"
       ],
       "metadata": {}
      }
     ],
     "input": [
      "vectorized_secs_rh_enabled = %timeit -o f.stats.clear_history(); Hz_17 = f(17, ran_t)\n",
      "vectorized_secs_rh_enabled.best"
     ],
     "language": "python",
     "prompt_number": 29
    },
    {
     "cell_type": "code",
     "execution_count": null,
     "metadata": {},
     "outputs": [
      {
       "output_type": "pyout",
       "prompt_number": 30,
       "text": [
        "1"
       ],
       "metadata": {}
      }
     ],
     "input": [
      "len(f.stats.history)"
     ],
     "language": "python",
     "prompt_number": 30
    },
    {
     "cell_type": "code",
     "execution_count": null,
     "metadata": {},
     "outputs": [
      {
       "output_type": "pyout",
       "prompt_number": 31,
       "text": [
        "44100"
       ],
       "metadata": {}
      }
     ],
     "input": [
      "def size_of_t_for_row(row):\n",
      "    return f.stats.history[row].argvals[1].size\n",
      "\n",
      "size_of_t_for_row(0)"
     ],
     "language": "python",
     "prompt_number": 31
    },
    {
     "cell_type": "code",
     "execution_count": null,
     "metadata": {},
     "outputs": [
      {
       "output_type": "pyout",
       "prompt_number": 32,
       "text": [
        "44100"
       ],
       "metadata": {}
      }
     ],
     "input": [
      "f.stats.history[0].retval.size"
     ],
     "language": "python",
     "prompt_number": 32
    },
    {
     "cell_type": "markdown",
     "metadata": {},
     "source": [
      "####With a `for` loop:"
     ]
    },
    {
     "cell_type": "code",
     "execution_count": null,
     "metadata": {},
     "outputs": [
      {
       "output_type": "stream",
       "stream": "stdout",
       "text": [
        "1 loops, best of 3: 8.81 s per loop\n"
       ]
      },
      {
       "output_type": "pyout",
       "prompt_number": 34,
       "text": [
        "8.813435396179557"
       ],
       "metadata": {}
      }
     ],
     "input": [
      "f.stats.clear_history()\n",
      "loop_secs_rh_enabled = %timeit -o for t in ran_t: f(7, t); f.stats.clear_history()\n",
      "loop_secs_rh_enabled.best"
     ],
     "language": "python",
     "prompt_number": 34
    },
    {
     "cell_type": "code",
     "execution_count": null,
     "metadata": {},
     "outputs": [
      {
       "output_type": "stream",
       "stream": "stdout",
       "text": [
        "With record_history enabled:\nVectorized approach is 13598 times (about 4.1 orders of magnitude) faster\n"
       ]
      }
     ],
     "input": [
      "print(\"With record_history enabled:\\n\"\n",
      "      \"Vectorized approach is %d times (about %.1f orders of magnitude) faster\" \n",
      "      % comparison(slower=loop_secs_rh_enabled.best, faster=vectorized_secs_rh_enabled.best))"
     ],
     "language": "python",
     "prompt_number": 35
    },
    {
     "cell_type": "markdown",
     "metadata": {},
     "source": [
      "---"
     ]
    }
   ]
  }
 ],
 "cells": [],
 "metadata": {
  "name": "",
  "signature": "sha256:9c815ad4797a01a2e0abd9841fc2aa5d1fcd8a6899659c9dbb7275bab909bd84"
 },
 "nbformat": 3,
 "nbformat_minor": 0
}