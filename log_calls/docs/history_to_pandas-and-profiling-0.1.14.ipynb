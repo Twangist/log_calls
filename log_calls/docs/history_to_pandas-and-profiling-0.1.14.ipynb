{
 "metadata": {
  "name": "",
  "signature": "sha256:3ae92794f0349f8a429e1449741a97a12adf741c2c6d41c15056be5d20e5608a"
 },
 "nbformat": 3,
 "nbformat_minor": 0,
 "worksheets": [
  {
   "cells": [
    {
     "cell_type": "markdown",
     "metadata": {},
     "source": [
      "This notebook illustrates amassing a medium-sized dataset (1 second of 32- or 64-bit float mono audio, essentially \u2013 a simple sine wave) using the `record_history` decorator, and then using the `stats.history_as_DataFrame` attribute to obtain that dataset as a Pandas DataFrame.\n",
      "\n",
      "After that basic (and naive) example, we compare the performance of this approach to one that uses numpy's ability to vectorize the same computation, and conclude that *if you can vectorize, certainly you should do so*. (The example is naive precisely because no one would call the function `f` below in a `for` loop when it's possible to use `numpy` universal functions (*ufunc*s). When that alternative is unavailable, however, `record_history` can come in handy.)"
     ]
    },
    {
     "cell_type": "markdown",
     "metadata": {},
     "source": [
      "# Using the `stats.history_as_DataFrame` attribute"
     ]
    },
    {
     "cell_type": "code",
     "collapsed": false,
     "input": [
      "%matplotlib inline\n",
      "import numpy as np\n",
      "import pandas as pd\n",
      "import matplotlib.pyplot as plt\n",
      "\n",
      "from log_calls import record_history"
     ],
     "language": "python",
     "metadata": {},
     "outputs": [],
     "prompt_number": 54
    },
    {
     "cell_type": "code",
     "collapsed": false,
     "input": [
      "@record_history()\n",
      "def f(freq, t):\n",
      "    return np.sin(freq * 2 * np.pi * t)"
     ],
     "language": "python",
     "metadata": {},
     "outputs": [],
     "prompt_number": 55
    },
    {
     "cell_type": "code",
     "collapsed": false,
     "input": [
      "ran_t = np.arange(0.0, 1.0, 1/44100, dtype=np.float32)\n",
      "ran_t"
     ],
     "language": "python",
     "metadata": {},
     "outputs": [
      {
       "metadata": {},
       "output_type": "pyout",
       "prompt_number": 56,
       "text": [
        "array([  0.00000000e+00,   2.26757365e-05,   4.53514731e-05, ...,\n",
        "         9.99931931e-01,   9.99954641e-01,   9.99977291e-01], dtype=float32)"
       ]
      }
     ],
     "prompt_number": 56
    },
    {
     "cell_type": "markdown",
     "metadata": {},
     "source": [
      "**Now, naively, call f 44,100 times in a `for` loop, and obtain its call history as a `Pandas` `DataFrame`:**"
     ]
    },
    {
     "cell_type": "code",
     "collapsed": false,
     "input": [
      "#f.stats.clear_history()\n",
      "for t in ran_t: \n",
      "    f(17, t)\n",
      "df = f.stats.history_as_DataFrame"
     ],
     "language": "python",
     "metadata": {},
     "outputs": [],
     "prompt_number": 57
    },
    {
     "cell_type": "markdown",
     "metadata": {},
     "source": [
      "**Examine and do stuff with it:**"
     ]
    },
    {
     "cell_type": "code",
     "collapsed": false,
     "input": [
      "df.info()"
     ],
     "language": "python",
     "metadata": {},
     "outputs": [
      {
       "output_type": "stream",
       "stream": "stdout",
       "text": [
        "<class 'pandas.core.frame.DataFrame'>\n",
        "Int64Index: 44100 entries, 1 to 44100\n",
        "Data columns (total 7 columns):\n",
        "freq              44100 non-null int64\n",
        "t                 44100 non-null float64\n",
        "retval            44100 non-null float64\n",
        "elapsed_secs      44100 non-null float64\n",
        "timestamp         44100 non-null object\n",
        "prefixed_fname    44100 non-null object\n",
        "caller_chain      44100 non-null object\n",
        "dtypes: float64(3), int64(1), object(3)\n",
        "memory usage: 2.7 MB\n"
       ]
      }
     ],
     "prompt_number": 60
    },
    {
     "cell_type": "code",
     "collapsed": false,
     "input": [
      "from IPython.display import display\n",
      "display(df.head())\n",
      "display(df.tail())"
     ],
     "language": "python",
     "metadata": {},
     "outputs": [
      {
       "html": [
        "<div style=\"max-height:1000px;max-width:1500px;overflow:auto;\">\n",
        "<table border=\"1\" class=\"dataframe\">\n",
        "  <thead>\n",
        "    <tr style=\"text-align: right;\">\n",
        "      <th></th>\n",
        "      <th>freq</th>\n",
        "      <th>t</th>\n",
        "      <th>retval</th>\n",
        "      <th>elapsed_secs</th>\n",
        "      <th>timestamp</th>\n",
        "      <th>prefixed_fname</th>\n",
        "      <th>caller_chain</th>\n",
        "    </tr>\n",
        "    <tr>\n",
        "      <th>call_num</th>\n",
        "      <th></th>\n",
        "      <th></th>\n",
        "      <th></th>\n",
        "      <th></th>\n",
        "      <th></th>\n",
        "      <th></th>\n",
        "      <th></th>\n",
        "    </tr>\n",
        "  </thead>\n",
        "  <tbody>\n",
        "    <tr>\n",
        "      <th>1</th>\n",
        "      <td> 17</td>\n",
        "      <td> 0.000000</td>\n",
        "      <td> 0.000000</td>\n",
        "      <td> 0.000040</td>\n",
        "      <td> 11/10/14 01:51:47.257050</td>\n",
        "      <td> 'f'</td>\n",
        "      <td> ['&lt;module&gt;']</td>\n",
        "    </tr>\n",
        "    <tr>\n",
        "      <th>2</th>\n",
        "      <td> 17</td>\n",
        "      <td> 0.000023</td>\n",
        "      <td> 0.002422</td>\n",
        "      <td> 0.000016</td>\n",
        "      <td> 11/10/14 01:51:47.257338</td>\n",
        "      <td> 'f'</td>\n",
        "      <td> ['&lt;module&gt;']</td>\n",
        "    </tr>\n",
        "    <tr>\n",
        "      <th>3</th>\n",
        "      <td> 17</td>\n",
        "      <td> 0.000045</td>\n",
        "      <td> 0.004844</td>\n",
        "      <td> 0.000016</td>\n",
        "      <td> 11/10/14 01:51:47.257570</td>\n",
        "      <td> 'f'</td>\n",
        "      <td> ['&lt;module&gt;']</td>\n",
        "    </tr>\n",
        "    <tr>\n",
        "      <th>4</th>\n",
        "      <td> 17</td>\n",
        "      <td> 0.000068</td>\n",
        "      <td> 0.007266</td>\n",
        "      <td> 0.000016</td>\n",
        "      <td> 11/10/14 01:51:47.257812</td>\n",
        "      <td> 'f'</td>\n",
        "      <td> ['&lt;module&gt;']</td>\n",
        "    </tr>\n",
        "    <tr>\n",
        "      <th>5</th>\n",
        "      <td> 17</td>\n",
        "      <td> 0.000091</td>\n",
        "      <td> 0.009688</td>\n",
        "      <td> 0.000015</td>\n",
        "      <td> 11/10/14 01:51:47.258043</td>\n",
        "      <td> 'f'</td>\n",
        "      <td> ['&lt;module&gt;']</td>\n",
        "    </tr>\n",
        "  </tbody>\n",
        "</table>\n",
        "</div>"
       ],
       "metadata": {},
       "output_type": "display_data",
       "text": [
        "          freq         t    retval  elapsed_secs                 timestamp  \\\n",
        "call_num                                                                     \n",
        "1           17  0.000000  0.000000      0.000040  11/10/14 01:51:47.257050   \n",
        "2           17  0.000023  0.002422      0.000016  11/10/14 01:51:47.257338   \n",
        "3           17  0.000045  0.004844      0.000016  11/10/14 01:51:47.257570   \n",
        "4           17  0.000068  0.007266      0.000016  11/10/14 01:51:47.257812   \n",
        "5           17  0.000091  0.009688      0.000015  11/10/14 01:51:47.258043   \n",
        "\n",
        "         prefixed_fname  caller_chain  \n",
        "call_num                               \n",
        "1                   'f'  ['<module>']  \n",
        "2                   'f'  ['<module>']  \n",
        "3                   'f'  ['<module>']  \n",
        "4                   'f'  ['<module>']  \n",
        "5                   'f'  ['<module>']  "
       ]
      },
      {
       "html": [
        "<div style=\"max-height:1000px;max-width:1500px;overflow:auto;\">\n",
        "<table border=\"1\" class=\"dataframe\">\n",
        "  <thead>\n",
        "    <tr style=\"text-align: right;\">\n",
        "      <th></th>\n",
        "      <th>freq</th>\n",
        "      <th>t</th>\n",
        "      <th>retval</th>\n",
        "      <th>elapsed_secs</th>\n",
        "      <th>timestamp</th>\n",
        "      <th>prefixed_fname</th>\n",
        "      <th>caller_chain</th>\n",
        "    </tr>\n",
        "    <tr>\n",
        "      <th>call_num</th>\n",
        "      <th></th>\n",
        "      <th></th>\n",
        "      <th></th>\n",
        "      <th></th>\n",
        "      <th></th>\n",
        "      <th></th>\n",
        "      <th></th>\n",
        "    </tr>\n",
        "  </thead>\n",
        "  <tbody>\n",
        "    <tr>\n",
        "      <th>44096</th>\n",
        "      <td> 17</td>\n",
        "      <td> 0.999887</td>\n",
        "      <td>-0.012109</td>\n",
        "      <td> 0.000014</td>\n",
        "      <td> 11/10/14 01:51:57.920550</td>\n",
        "      <td> 'f'</td>\n",
        "      <td> ['&lt;module&gt;']</td>\n",
        "    </tr>\n",
        "    <tr>\n",
        "      <th>44097</th>\n",
        "      <td> 17</td>\n",
        "      <td> 0.999909</td>\n",
        "      <td>-0.009690</td>\n",
        "      <td> 0.000014</td>\n",
        "      <td> 11/10/14 01:51:57.920767</td>\n",
        "      <td> 'f'</td>\n",
        "      <td> ['&lt;module&gt;']</td>\n",
        "    </tr>\n",
        "    <tr>\n",
        "      <th>44098</th>\n",
        "      <td> 17</td>\n",
        "      <td> 0.999932</td>\n",
        "      <td>-0.007271</td>\n",
        "      <td> 0.000014</td>\n",
        "      <td> 11/10/14 01:51:57.920979</td>\n",
        "      <td> 'f'</td>\n",
        "      <td> ['&lt;module&gt;']</td>\n",
        "    </tr>\n",
        "    <tr>\n",
        "      <th>44099</th>\n",
        "      <td> 17</td>\n",
        "      <td> 0.999955</td>\n",
        "      <td>-0.004845</td>\n",
        "      <td> 0.000014</td>\n",
        "      <td> 11/10/14 01:51:57.921190</td>\n",
        "      <td> 'f'</td>\n",
        "      <td> ['&lt;module&gt;']</td>\n",
        "    </tr>\n",
        "    <tr>\n",
        "      <th>44100</th>\n",
        "      <td> 17</td>\n",
        "      <td> 0.999977</td>\n",
        "      <td>-0.002426</td>\n",
        "      <td> 0.000013</td>\n",
        "      <td> 11/10/14 01:51:57.921411</td>\n",
        "      <td> 'f'</td>\n",
        "      <td> ['&lt;module&gt;']</td>\n",
        "    </tr>\n",
        "  </tbody>\n",
        "</table>\n",
        "</div>"
       ],
       "metadata": {},
       "output_type": "display_data",
       "text": [
        "          freq         t    retval  elapsed_secs                 timestamp  \\\n",
        "call_num                                                                     \n",
        "44096       17  0.999887 -0.012109      0.000014  11/10/14 01:51:57.920550   \n",
        "44097       17  0.999909 -0.009690      0.000014  11/10/14 01:51:57.920767   \n",
        "44098       17  0.999932 -0.007271      0.000014  11/10/14 01:51:57.920979   \n",
        "44099       17  0.999955 -0.004845      0.000014  11/10/14 01:51:57.921190   \n",
        "44100       17  0.999977 -0.002426      0.000013  11/10/14 01:51:57.921411   \n",
        "\n",
        "         prefixed_fname  caller_chain  \n",
        "call_num                               \n",
        "44096               'f'  ['<module>']  \n",
        "44097               'f'  ['<module>']  \n",
        "44098               'f'  ['<module>']  \n",
        "44099               'f'  ['<module>']  \n",
        "44100               'f'  ['<module>']  "
       ]
      }
     ],
     "prompt_number": 61
    },
    {
     "cell_type": "code",
     "collapsed": false,
     "input": [
      "len(f.stats.history)"
     ],
     "language": "python",
     "metadata": {},
     "outputs": [
      {
       "metadata": {},
       "output_type": "pyout",
       "prompt_number": 62,
       "text": [
        "44100"
       ]
      }
     ],
     "prompt_number": 62
    },
    {
     "cell_type": "code",
     "collapsed": false,
     "input": [
      "df[['t', 'retval']].head()"
     ],
     "language": "python",
     "metadata": {},
     "outputs": [
      {
       "html": [
        "<div style=\"max-height:1000px;max-width:1500px;overflow:auto;\">\n",
        "<table border=\"1\" class=\"dataframe\">\n",
        "  <thead>\n",
        "    <tr style=\"text-align: right;\">\n",
        "      <th></th>\n",
        "      <th>t</th>\n",
        "      <th>retval</th>\n",
        "    </tr>\n",
        "    <tr>\n",
        "      <th>call_num</th>\n",
        "      <th></th>\n",
        "      <th></th>\n",
        "    </tr>\n",
        "  </thead>\n",
        "  <tbody>\n",
        "    <tr>\n",
        "      <th>1</th>\n",
        "      <td> 0.000000</td>\n",
        "      <td> 0.000000</td>\n",
        "    </tr>\n",
        "    <tr>\n",
        "      <th>2</th>\n",
        "      <td> 0.000023</td>\n",
        "      <td> 0.002422</td>\n",
        "    </tr>\n",
        "    <tr>\n",
        "      <th>3</th>\n",
        "      <td> 0.000045</td>\n",
        "      <td> 0.004844</td>\n",
        "    </tr>\n",
        "    <tr>\n",
        "      <th>4</th>\n",
        "      <td> 0.000068</td>\n",
        "      <td> 0.007266</td>\n",
        "    </tr>\n",
        "    <tr>\n",
        "      <th>5</th>\n",
        "      <td> 0.000091</td>\n",
        "      <td> 0.009688</td>\n",
        "    </tr>\n",
        "  </tbody>\n",
        "</table>\n",
        "</div>"
       ],
       "metadata": {},
       "output_type": "pyout",
       "prompt_number": 63,
       "text": [
        "                 t    retval\n",
        "call_num                    \n",
        "1         0.000000  0.000000\n",
        "2         0.000023  0.002422\n",
        "3         0.000045  0.004844\n",
        "4         0.000068  0.007266\n",
        "5         0.000091  0.009688"
       ]
      }
     ],
     "prompt_number": 63
    },
    {
     "cell_type": "code",
     "collapsed": false,
     "input": [
      "plt.plot(df.t, df.retval);"
     ],
     "language": "python",
     "metadata": {},
     "outputs": [
      {
       "metadata": {},
       "output_type": "display_data",
       "png": "[encoded data removed]",
       "text": [
        "<matplotlib.figure.Figure at 0x11401d4a8>"
       ]
      }
     ],
     "prompt_number": 64
    },
    {
     "cell_type": "markdown",
     "metadata": {},
     "source": [
      "---"
     ]
    },
    {
     "cell_type": "markdown",
     "metadata": {},
     "source": [
      "#Comparing performance: `record_history` *vs* vectorization with numpy *ufunc*s"
     ]
    },
    {
     "cell_type": "markdown",
     "metadata": {},
     "source": [
      "##(1) No decorator"
     ]
    },
    {
     "cell_type": "markdown",
     "metadata": {},
     "source": [
      "###*With no decorator, it's ~2.8 orders of magnitude faster to use a function as a numpy ufunc than to call it in a for loop (looping through ran_t)*"
     ]
    },
    {
     "cell_type": "code",
     "collapsed": false,
     "input": [
      "def g(freq, t):\n",
      "    return np.sin(freq * 2 * np.pi * t)"
     ],
     "language": "python",
     "metadata": {},
     "outputs": [],
     "prompt_number": 72
    },
    {
     "cell_type": "markdown",
     "metadata": {},
     "source": [
      "####Vectorized:"
     ]
    },
    {
     "cell_type": "code",
     "collapsed": false,
     "input": [
      "nodeco_vectorized_secs = %timeit -o Hz_17 = g(17, ran_t)\n",
      "nodeco_vectorized_secs.best"
     ],
     "language": "python",
     "metadata": {},
     "outputs": [
      {
       "output_type": "stream",
       "stream": "stdout",
       "text": [
        "1000 loops, best of 3: 448 \u00b5s per loop\n"
       ]
      },
      {
       "metadata": {},
       "output_type": "pyout",
       "prompt_number": 89,
       "text": [
        "0.0004476831200008746"
       ]
      }
     ],
     "prompt_number": 89
    },
    {
     "cell_type": "code",
     "collapsed": false,
     "input": [
      "Hz_17"
     ],
     "language": "python",
     "metadata": {},
     "outputs": [
      {
       "metadata": {},
       "output_type": "pyout",
       "prompt_number": 90,
       "text": [
        "array([ 0.        ,  0.00242209,  0.00484416, ..., -0.00727302,\n",
        "       -0.00484692, -0.00242842], dtype=float32)"
       ]
      }
     ],
     "prompt_number": 90
    },
    {
     "cell_type": "code",
     "collapsed": false,
     "input": [
      "plt.plot(Hz_17);"
     ],
     "language": "python",
     "metadata": {},
     "outputs": [
      {
       "metadata": {},
       "output_type": "display_data",
       "png": "[encoded data removed]",
       "text": [
        "<matplotlib.figure.Figure at 0x110142630>"
       ]
      }
     ],
     "prompt_number": 91
    },
    {
     "cell_type": "markdown",
     "metadata": {},
     "source": [
      "####With a `for` loop:"
     ]
    },
    {
     "cell_type": "code",
     "collapsed": false,
     "input": [
      "nodeco_loop_secs = %timeit -o for t in ran_t: g(7, t)\n",
      "nodeco_loop_secs.best"
     ],
     "language": "python",
     "metadata": {},
     "outputs": [
      {
       "output_type": "stream",
       "stream": "stdout",
       "text": [
        "1 loops, best of 3: 278 ms per loop\n"
       ]
      },
      {
       "metadata": {},
       "output_type": "pyout",
       "prompt_number": 92,
       "text": [
        "0.2777122740226332"
       ]
      }
     ],
     "prompt_number": 92
    },
    {
     "cell_type": "code",
     "collapsed": false,
     "input": [
      "def comparison(slower, faster):\n",
      "    'slower, faster: seconds'\n",
      "    ratio = slower/faster\n",
      "    order_of_magnitude = np.log10(ratio)\n",
      "    return ratio, order_of_magnitude"
     ],
     "language": "python",
     "metadata": {},
     "outputs": [],
     "prompt_number": 93
    },
    {
     "cell_type": "code",
     "collapsed": false,
     "input": [
      "print(\"With record_history disabled:\\n\"\n",
      "      \"Vectorized approach is %d times (about %.1f orders of magnitude) faster\" \n",
      "      % comparison(slower=loop_secs.best, faster=vectorized_secs.best))"
     ],
     "language": "python",
     "metadata": {},
     "outputs": [
      {
       "output_type": "stream",
       "stream": "stdout",
       "text": [
        "With record_history disabled:\n",
        "Vectorized approach is 619 times (about 2.8 orders of magnitude) faster\n"
       ]
      }
     ],
     "prompt_number": 94
    },
    {
     "cell_type": "markdown",
     "metadata": {},
     "source": [
      "**Now let's compare the performance of the `record_history`-decorated version (`f`) of the same function**"
     ]
    },
    {
     "cell_type": "markdown",
     "metadata": {},
     "source": [
      "##(2) `record_history` disabled"
     ]
    },
    {
     "cell_type": "markdown",
     "metadata": {},
     "source": [
      "### *With record_history disabled, it's ~3.6 orders of magnitude faster to use a function as a numpy ufunc than to call it in a for loop (looping through ran_t)*"
     ]
    },
    {
     "cell_type": "code",
     "collapsed": false,
     "input": [
      "f.stats.clear_history()\n",
      "f.record_history_settings.enabled = False"
     ],
     "language": "python",
     "metadata": {},
     "outputs": [],
     "prompt_number": 83
    },
    {
     "cell_type": "markdown",
     "metadata": {},
     "source": [
      "####Vectorized:"
     ]
    },
    {
     "cell_type": "code",
     "collapsed": false,
     "input": [
      "vectorized_secs_rh_disabled = %timeit -o Hz_17 = f(17, ran_t)\n",
      "vectorized_secs_rh_disabled.best"
     ],
     "language": "python",
     "metadata": {},
     "outputs": [
      {
       "output_type": "stream",
       "stream": "stdout",
       "text": [
        "1000 loops, best of 3: 489 \u00b5s per loop\n"
       ]
      },
      {
       "metadata": {},
       "output_type": "pyout",
       "prompt_number": 84,
       "text": [
        "0.0004893772610230371"
       ]
      }
     ],
     "prompt_number": 84
    },
    {
     "cell_type": "markdown",
     "metadata": {},
     "source": [
      "####With a `for` loop:"
     ]
    },
    {
     "cell_type": "code",
     "collapsed": false,
     "input": [
      "loop_secs_rh_disabled = %timeit -o for t in ran_t: f(7, t)\n",
      "loop_secs_rh_disabled.best"
     ],
     "language": "python",
     "metadata": {},
     "outputs": [
      {
       "output_type": "stream",
       "stream": "stdout",
       "text": [
        "1 loops, best of 3: 1.98 s per loop\n"
       ]
      },
      {
       "metadata": {},
       "output_type": "pyout",
       "prompt_number": 87,
       "text": [
        "1.9756690169742797"
       ]
      }
     ],
     "prompt_number": 87
    },
    {
     "cell_type": "code",
     "collapsed": false,
     "input": [
      "print(\"With record_history disabled:\\n\"\n",
      "      \"Vectorized approach is %d times (about %.1f orders of magnitude) faster\" \n",
      "      % comparison(slower=loop_secs_rh_disabled.best, faster=vectorized_secs_rh_disabled.best))"
     ],
     "language": "python",
     "metadata": {},
     "outputs": [
      {
       "output_type": "stream",
       "stream": "stdout",
       "text": [
        "With record_history disabled:\n",
        "Vectorized approach is 4037 times (about 3.6 orders of magnitude) faster\n"
       ]
      }
     ],
     "prompt_number": 95
    },
    {
     "cell_type": "markdown",
     "metadata": {},
     "source": [
      "###Decorator overhead: about 7x slower (~0.9 orders of magnitude)"
     ]
    },
    {
     "cell_type": "code",
     "collapsed": false,
     "input": [
      "print(\"Called in a for-loop, the no-decorator version is %d times (about %.1f orders of magnitude) faster\" \n",
      "      % comparison(slower=loop_secs_rh_disabled.best, faster=nodeco_loop_secs.best))"
     ],
     "language": "python",
     "metadata": {},
     "outputs": [
      {
       "output_type": "stream",
       "stream": "stdout",
       "text": [
        "Called in a for-loop, the no-decorator version is 7 times (about 0.9 orders of magnitude) faster\n"
       ]
      }
     ],
     "prompt_number": 99
    },
    {
     "cell_type": "markdown",
     "metadata": {},
     "source": [
      "##(3) `record_history` enabled"
     ]
    },
    {
     "cell_type": "markdown",
     "metadata": {},
     "source": [
      "### *With record_history enabled, it's ~4.2 orders of magnitude faster to use a function as a numpy ufunc than to call it in a for loop (looping through ran_t)*"
     ]
    },
    {
     "cell_type": "code",
     "collapsed": false,
     "input": [
      "f.record_history_settings.enabled = True\n",
      "f.stats.clear_history()"
     ],
     "language": "python",
     "metadata": {},
     "outputs": [],
     "prompt_number": 100
    },
    {
     "cell_type": "markdown",
     "metadata": {},
     "source": [
      "####Vectorized:"
     ]
    },
    {
     "cell_type": "code",
     "collapsed": false,
     "input": [
      "vectorized_secs_rh_enabled = %timeit -o f.stats.clear_history(); Hz_17 = f(17, ran_t)\n",
      "vectorized_secs_rh_enabled.best"
     ],
     "language": "python",
     "metadata": {},
     "outputs": [
      {
       "output_type": "stream",
       "stream": "stdout",
       "text": [
        "1000 loops, best of 3: 705 \u00b5s per loop\n"
       ]
      },
      {
       "metadata": {},
       "output_type": "pyout",
       "prompt_number": 106,
       "text": [
        "0.0007048069210140966"
       ]
      }
     ],
     "prompt_number": 106
    },
    {
     "cell_type": "code",
     "collapsed": false,
     "input": [
      "len(f.stats.history)"
     ],
     "language": "python",
     "metadata": {},
     "outputs": [
      {
       "metadata": {},
       "output_type": "pyout",
       "prompt_number": 107,
       "text": [
        "1"
       ]
      }
     ],
     "prompt_number": 107
    },
    {
     "cell_type": "code",
     "collapsed": false,
     "input": [
      "def size_of_t_for_row(row):\n",
      "    return f.stats.history[row].argvals[1].size\n",
      "\n",
      "size_of_t_for_row(0)"
     ],
     "language": "python",
     "metadata": {},
     "outputs": [
      {
       "metadata": {},
       "output_type": "pyout",
       "prompt_number": 108,
       "text": [
        "44100"
       ]
      }
     ],
     "prompt_number": 108
    },
    {
     "cell_type": "code",
     "collapsed": false,
     "input": [
      "f.stats.history[0].retval.size"
     ],
     "language": "python",
     "metadata": {},
     "outputs": [
      {
       "metadata": {},
       "output_type": "pyout",
       "prompt_number": 109,
       "text": [
        "44100"
       ]
      }
     ],
     "prompt_number": 109
    },
    {
     "cell_type": "code",
     "collapsed": false,
     "input": [
      "f.stats.history"
     ],
     "language": "python",
     "metadata": {},
     "outputs": [
      {
       "metadata": {},
       "output_type": "pyout",
       "prompt_number": 110,
       "text": [
        "(CallRecord(call_num=1, argnames=['freq', 't'], argvals=(17, array([  0.00000000e+00,   2.26757365e-05,   4.53514731e-05, ...,\n",
        "         9.99931931e-01,   9.99954641e-01,   9.99977291e-01], dtype=float32)), varargs=(), explicit_kwargs=OrderedDict(), defaulted_kwargs=OrderedDict(), implicit_kwargs={}, retval=array([ 0.        ,  0.00242209,  0.00484416, ..., -0.00727302,\n",
        "       -0.00484692, -0.00242842], dtype=float32), elapsed_secs=0.00045490264892578125, timestamp='11/10/14 02:05:01.410089', prefixed_func_name='f', caller_chain=['inner']),)"
       ]
      }
     ],
     "prompt_number": 110
    },
    {
     "cell_type": "code",
     "collapsed": false,
     "input": [
      "f.stats.clear_history()"
     ],
     "language": "python",
     "metadata": {},
     "outputs": [],
     "prompt_number": 111
    },
    {
     "cell_type": "markdown",
     "metadata": {},
     "source": [
      "####With a `for` loop:"
     ]
    },
    {
     "cell_type": "code",
     "collapsed": false,
     "input": [
      "loop_secs_rh_enabled = %timeit -o for t in ran_t: f(7, t); f.stats.clear_history()\n",
      "loop_secs_rh_enabled.best"
     ],
     "language": "python",
     "metadata": {},
     "outputs": [
      {
       "output_type": "stream",
       "stream": "stdout",
       "text": [
        "1 loops, best of 3: 10.6 s per loop\n"
       ]
      },
      {
       "metadata": {},
       "output_type": "pyout",
       "prompt_number": 112,
       "text": [
        "10.644794539985014"
       ]
      }
     ],
     "prompt_number": 112
    },
    {
     "cell_type": "code",
     "collapsed": false,
     "input": [
      "print(\"With record_history enabled:\\n\"\n",
      "      \"Vectorized approach is %d times (about %.1f orders of magnitude) faster\" \n",
      "      % comparison(slower=loop_secs_rh_enabled.best, faster=vectorized_secs_rh_enabled.best))"
     ],
     "language": "python",
     "metadata": {},
     "outputs": [
      {
       "output_type": "stream",
       "stream": "stdout",
       "text": [
        "With record_history enabled:\n",
        "Vectorized approach is 15103 times (about 4.2 orders of magnitude) faster\n"
       ]
      }
     ],
     "prompt_number": 113
    },
    {
     "cell_type": "markdown",
     "metadata": {},
     "source": [
      "---"
     ]
    }
   ],
   "metadata": {}
  }
 ]
}