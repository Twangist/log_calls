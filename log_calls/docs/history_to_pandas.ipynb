{
 "metadata": {
  "name": "",
  "signature": "sha256:83f39cc728d5f76d510e01526f3d2dff31aa66ee6da8f588cbfbea124fd94ac6"
 },
 "nbformat": 3,
 "nbformat_minor": 0,
 "worksheets": [
  {
   "cells": [
    {
     "cell_type": "code",
     "collapsed": false,
     "input": [
      "%matplotlib inline"
     ],
     "language": "python",
     "metadata": {},
     "outputs": [],
     "prompt_number": 282
    },
    {
     "cell_type": "code",
     "collapsed": false,
     "input": [
      "import numpy as np\n",
      "import pandas as pd\n",
      "import matplotlib.pyplot as plt"
     ],
     "language": "python",
     "metadata": {},
     "outputs": [],
     "prompt_number": 283
    },
    {
     "cell_type": "code",
     "collapsed": false,
     "input": [
      "ran_t = np.arange(0.0, 1.0, 1/44100, dtype=np.float32)\n",
      "ran_t"
     ],
     "language": "python",
     "metadata": {},
     "outputs": [
      {
       "metadata": {},
       "output_type": "pyout",
       "prompt_number": 284,
       "text": [
        "array([  0.00000000e+00,   2.26757365e-05,   4.53514731e-05, ...,\n",
        "         9.99931931e-01,   9.99954641e-01,   9.99977291e-01], dtype=float32)"
       ]
      }
     ],
     "prompt_number": 284
    },
    {
     "cell_type": "markdown",
     "metadata": {},
     "source": [
      "#No decorator"
     ]
    },
    {
     "cell_type": "code",
     "collapsed": false,
     "input": [
      "def g(freq, t) -> np.int16:\n",
      "    return np.sin(freq * 2 * np.pi * t)"
     ],
     "language": "python",
     "metadata": {},
     "outputs": [],
     "prompt_number": 285
    },
    {
     "cell_type": "code",
     "collapsed": false,
     "input": [
      "vectorized_secs = %timeit -o Hz_17 = g(17, ran_t)\n",
      "vectorized_secs.best"
     ],
     "language": "python",
     "metadata": {},
     "outputs": [
      {
       "output_type": "stream",
       "stream": "stdout",
       "text": [
        "1000 loops, best of 3: 457 \u00b5s per loop\n"
       ]
      },
      {
       "metadata": {},
       "output_type": "pyout",
       "prompt_number": 286,
       "text": [
        "0.0004566969659936149"
       ]
      }
     ],
     "prompt_number": 286
    },
    {
     "cell_type": "code",
     "collapsed": false,
     "input": [
      "Hz_17_16bit = np.int16(np.float32(32767) * Hz_17)\n",
      "Hz_17_16bit"
     ],
     "language": "python",
     "metadata": {},
     "outputs": [
      {
       "metadata": {},
       "output_type": "pyout",
       "prompt_number": 287,
       "text": [
        "array([   0,   79,  158, ..., -238, -158,  -79], dtype=int16)"
       ]
      }
     ],
     "prompt_number": 287
    },
    {
     "cell_type": "code",
     "collapsed": false,
     "input": [
      "ran_t.dtype, Hz_17.dtype, Hz_17_16bit.dtype"
     ],
     "language": "python",
     "metadata": {},
     "outputs": [
      {
       "metadata": {},
       "output_type": "pyout",
       "prompt_number": 288,
       "text": [
        "(dtype('float32'), dtype('float64'), dtype('int16'))"
       ]
      }
     ],
     "prompt_number": 288
    },
    {
     "cell_type": "code",
     "collapsed": false,
     "input": [
      "plt.plot(Hz_17_16bit);"
     ],
     "language": "python",
     "metadata": {},
     "outputs": [
      {
       "metadata": {},
       "output_type": "display_data",
       "png": "[encoded data removed]",
       "text": [
        "<matplotlib.figure.Figure at 0x11deda710>"
       ]
      }
     ],
     "prompt_number": 289
    },
    {
     "cell_type": "code",
     "collapsed": false,
     "input": [
      "loop_secs = %timeit -o for t in ran_t: g(7, t)\n",
      "loop_secs.best"
     ],
     "language": "python",
     "metadata": {},
     "outputs": [
      {
       "output_type": "stream",
       "stream": "stdout",
       "text": [
        "1 loops, best of 3: 252 ms per loop\n"
       ]
      },
      {
       "metadata": {},
       "output_type": "pyout",
       "prompt_number": 290,
       "text": [
        "0.25186636099533644"
       ]
      }
     ],
     "prompt_number": 290
    },
    {
     "cell_type": "code",
     "collapsed": false,
     "input": [
      "def comparison(slower, faster):\n",
      "    'slower, faster: seconds'\n",
      "    ratio = slower/faster\n",
      "    order_of_magnitude = np.log10(ratio)\n",
      "    return ratio, order_of_magnitude"
     ],
     "language": "python",
     "metadata": {},
     "outputs": [],
     "prompt_number": 291
    },
    {
     "cell_type": "code",
     "collapsed": false,
     "input": [
      "print(\"With record_history disabled:\\n\"\n",
      "      \"Vectorized approach is %d times (about %.1f orders of magnitude) faster\" \n",
      "      % comparison(slower=loop_secs.best, faster=vectorized_secs.best))"
     ],
     "language": "python",
     "metadata": {},
     "outputs": [
      {
       "output_type": "stream",
       "stream": "stdout",
       "text": [
        "With record_history disabled:\n",
        "Vectorized approach is 551 times (about 2.7 orders of magnitude) faster\n"
       ]
      }
     ],
     "prompt_number": 292
    },
    {
     "cell_type": "markdown",
     "metadata": {},
     "source": [
      "##With no decorator,\n",
      "##it's ~2.7 orders of magnitude faster to use a function as a numpy ufunc than to call it in a for loop (looping through ran_t)"
     ]
    },
    {
     "cell_type": "markdown",
     "metadata": {},
     "source": [
      "#A `record_history`-decorated version of the same function"
     ]
    },
    {
     "cell_type": "code",
     "collapsed": false,
     "input": [
      "from log_calls import record_history\n",
      "@record_history()\n",
      "def f(freq, t):\n",
      "    return np.sin(freq * 2 * np.pi * t)"
     ],
     "language": "python",
     "metadata": {},
     "outputs": [],
     "prompt_number": 293
    },
    {
     "cell_type": "markdown",
     "metadata": {},
     "source": [
      "#`record_history` disabled"
     ]
    },
    {
     "cell_type": "code",
     "collapsed": false,
     "input": [
      "f.record_history_settings.enabled = False"
     ],
     "language": "python",
     "metadata": {},
     "outputs": [],
     "prompt_number": 294
    },
    {
     "cell_type": "code",
     "collapsed": false,
     "input": [
      "vectorized_secs_rh_disabled = %timeit -o Hz_17 = f(17, ran_t)\n",
      "vectorized_secs_rh_disabled.best"
     ],
     "language": "python",
     "metadata": {},
     "outputs": [
      {
       "output_type": "stream",
       "stream": "stdout",
       "text": [
        "1000 loops, best of 3: 490 \u00b5s per loop\n"
       ]
      },
      {
       "metadata": {},
       "output_type": "pyout",
       "prompt_number": 295,
       "text": [
        "0.0004900190659973305"
       ]
      }
     ],
     "prompt_number": 295
    },
    {
     "cell_type": "code",
     "collapsed": false,
     "input": [
      "loop_secs_rh_disabled = %timeit -o for t in ran_t: f(7, t)\n",
      "loop_secs_rh_disabled.best"
     ],
     "language": "python",
     "metadata": {},
     "outputs": [
      {
       "output_type": "stream",
       "stream": "stdout",
       "text": [
        "1 loops, best of 3: 1.73 s per loop\n"
       ]
      },
      {
       "metadata": {},
       "output_type": "pyout",
       "prompt_number": 296,
       "text": [
        "1.72951482499775"
       ]
      }
     ],
     "prompt_number": 296
    },
    {
     "cell_type": "code",
     "collapsed": false,
     "input": [
      "print(\"With record_history disabled:\\n\"\n",
      "      \"Vectorized approach is %d times (about %.1f orders of magnitude) faster\" \n",
      "      % comparison(slower=loop_secs_rh_disabled.best, faster=vectorized_secs_rh_disabled.best))"
     ],
     "language": "python",
     "metadata": {},
     "outputs": [
      {
       "output_type": "stream",
       "stream": "stdout",
       "text": [
        "With record_history disabled:\n",
        "Vectorized approach is 3529 times (about 3.5 orders of magnitude) faster\n"
       ]
      }
     ],
     "prompt_number": 297
    },
    {
     "cell_type": "markdown",
     "metadata": {},
     "source": [
      "##With record_history disabled,\n",
      "##it's 3.5 orders of magnitude faster to use a function as a numpy ufunc than to call it in a for loop (looping through ran_t)"
     ]
    },
    {
     "cell_type": "markdown",
     "metadata": {},
     "source": [
      "#`record_history` enabled"
     ]
    },
    {
     "cell_type": "code",
     "collapsed": false,
     "input": [
      "f.record_history_settings.enabled = True\n",
      "f.stats.clear_history()"
     ],
     "language": "python",
     "metadata": {},
     "outputs": [],
     "prompt_number": 298
    },
    {
     "cell_type": "code",
     "collapsed": false,
     "input": [
      "vectorized_secs_rh_enabled = %timeit -o f.stats.clear_history(); Hz_17 = f(17, ran_t)\n",
      "vectorized_secs_rh_enabled.best"
     ],
     "language": "python",
     "metadata": {},
     "outputs": [
      {
       "output_type": "stream",
       "stream": "stdout",
       "text": [
        "1000 loops, best of 3: 701 \u00b5s per loop\n"
       ]
      },
      {
       "metadata": {},
       "output_type": "pyout",
       "prompt_number": 299,
       "text": [
        "0.0007013606440013973"
       ]
      }
     ],
     "prompt_number": 299
    },
    {
     "cell_type": "code",
     "collapsed": false,
     "input": [
      "len(f.stats.history)"
     ],
     "language": "python",
     "metadata": {},
     "outputs": [
      {
       "metadata": {},
       "output_type": "pyout",
       "prompt_number": 300,
       "text": [
        "1"
       ]
      }
     ],
     "prompt_number": 300
    },
    {
     "cell_type": "code",
     "collapsed": false,
     "input": [
      "def size_of_t_for_row(row):\n",
      "    return f.stats.history[row].argvals[1].size\n",
      "\n",
      "size_of_t_for_row(0)"
     ],
     "language": "python",
     "metadata": {},
     "outputs": [
      {
       "metadata": {},
       "output_type": "pyout",
       "prompt_number": 301,
       "text": [
        "44100"
       ]
      }
     ],
     "prompt_number": 301
    },
    {
     "cell_type": "code",
     "collapsed": false,
     "input": [
      "f.stats.history[0].retval.size"
     ],
     "language": "python",
     "metadata": {},
     "outputs": [
      {
       "metadata": {},
       "output_type": "pyout",
       "prompt_number": 302,
       "text": [
        "44100"
       ]
      }
     ],
     "prompt_number": 302
    },
    {
     "cell_type": "code",
     "collapsed": false,
     "input": [
      "f.stats.history"
     ],
     "language": "python",
     "metadata": {},
     "outputs": [
      {
       "metadata": {},
       "output_type": "pyout",
       "prompt_number": 303,
       "text": [
        "(CallRecord(call_num=1, argnames=['freq', 't'], argvals=(17, array([  0.00000000e+00,   2.26757365e-05,   4.53514731e-05, ...,\n",
        "         9.99931931e-01,   9.99954641e-01,   9.99977291e-01], dtype=float32)), varargs=(), explicit_kwargs=OrderedDict(), defaulted_kwargs=OrderedDict(), implicit_kwargs={}, retval=array([ 0.        ,  0.00242209,  0.00484416, ..., -0.00727302,\n",
        "       -0.00484692, -0.00242842], dtype=float32), elapsed_secs=0.0004661083221435547, timestamp='11/07/14 20:33:05.452003', prefixed_func_name='f', caller_chain=['inner']),)"
       ]
      }
     ],
     "prompt_number": 303
    },
    {
     "cell_type": "code",
     "collapsed": false,
     "input": [
      "f.stats.clear_history()"
     ],
     "language": "python",
     "metadata": {},
     "outputs": [],
     "prompt_number": 304
    },
    {
     "cell_type": "code",
     "collapsed": false,
     "input": [
      "loop_secs_rh_enabled = %timeit -o for t in ran_t: f(7, t); f.stats.clear_history()\n",
      "loop_secs_rh_enabled.best"
     ],
     "language": "python",
     "metadata": {},
     "outputs": [
      {
       "output_type": "stream",
       "stream": "stdout",
       "text": [
        "1 loops, best of 3: 10.5 s per loop\n"
       ]
      },
      {
       "metadata": {},
       "output_type": "pyout",
       "prompt_number": 305,
       "text": [
        "10.49896942700434"
       ]
      }
     ],
     "prompt_number": 305
    },
    {
     "cell_type": "code",
     "collapsed": false,
     "input": [
      "print(\"With record_history enabled:\\n\"\n",
      "      \"Vectorized approach is %d times (about %.1f orders of magnitude) faster\" \n",
      "      % comparison(slower=loop_secs_rh_enabled.best, faster=vectorized_secs_rh_enabled.best))"
     ],
     "language": "python",
     "metadata": {},
     "outputs": [
      {
       "output_type": "stream",
       "stream": "stdout",
       "text": [
        "With record_history enabled:\n",
        "Vectorized approach is 14969 times (about 4.2 orders of magnitude) faster\n"
       ]
      }
     ],
     "prompt_number": 306
    },
    {
     "cell_type": "markdown",
     "metadata": {},
     "source": [
      "##With record_history enabled,\n",
      "##it's 4+ orders of magnitude faster to use a function as a numpy ufunc than to call it in a for loop (looping through ran_t)\n",
      "So recording history slows things down by another order of magnitude :|"
     ]
    },
    {
     "cell_type": "markdown",
     "metadata": {},
     "source": [
      "---"
     ]
    },
    {
     "cell_type": "code",
     "collapsed": false,
     "input": [
      "f.stats.clear_history()\n",
      "for t in ran_t: f(7, t)\n",
      "df = f.stats.history_as_DataFrame"
     ],
     "language": "python",
     "metadata": {},
     "outputs": [],
     "prompt_number": 307
    },
    {
     "cell_type": "code",
     "collapsed": false,
     "input": [
      "from IPython.display import display\n",
      "display(df.head())\n",
      "display(df.tail())"
     ],
     "language": "python",
     "metadata": {},
     "outputs": [
      {
       "html": [
        "<div style=\"max-height:1000px;max-width:1500px;overflow:auto;\">\n",
        "<table border=\"1\" class=\"dataframe\">\n",
        "  <thead>\n",
        "    <tr style=\"text-align: right;\">\n",
        "      <th></th>\n",
        "      <th>freq</th>\n",
        "      <th>t</th>\n",
        "      <th>retval</th>\n",
        "      <th>elapsed_secs</th>\n",
        "      <th>timestamp</th>\n",
        "      <th>prefixed_fname</th>\n",
        "      <th>caller_chain</th>\n",
        "    </tr>\n",
        "    <tr>\n",
        "      <th>call_num</th>\n",
        "      <th></th>\n",
        "      <th></th>\n",
        "      <th></th>\n",
        "      <th></th>\n",
        "      <th></th>\n",
        "      <th></th>\n",
        "      <th></th>\n",
        "    </tr>\n",
        "  </thead>\n",
        "  <tbody>\n",
        "    <tr>\n",
        "      <th>1</th>\n",
        "      <td> 7</td>\n",
        "      <td> 0.000000</td>\n",
        "      <td> 0.000000</td>\n",
        "      <td> 0.000041</td>\n",
        "      <td> 11/07/14 20:34:31.921803</td>\n",
        "      <td> 'f'</td>\n",
        "      <td> ['&lt;module&gt;']</td>\n",
        "    </tr>\n",
        "    <tr>\n",
        "      <th>2</th>\n",
        "      <td> 7</td>\n",
        "      <td> 0.000023</td>\n",
        "      <td> 0.000997</td>\n",
        "      <td> 0.000016</td>\n",
        "      <td> 11/07/14 20:34:31.922090</td>\n",
        "      <td> 'f'</td>\n",
        "      <td> ['&lt;module&gt;']</td>\n",
        "    </tr>\n",
        "    <tr>\n",
        "      <th>3</th>\n",
        "      <td> 7</td>\n",
        "      <td> 0.000045</td>\n",
        "      <td> 0.001995</td>\n",
        "      <td> 0.000015</td>\n",
        "      <td> 11/07/14 20:34:31.922319</td>\n",
        "      <td> 'f'</td>\n",
        "      <td> ['&lt;module&gt;']</td>\n",
        "    </tr>\n",
        "    <tr>\n",
        "      <th>4</th>\n",
        "      <td> 7</td>\n",
        "      <td> 0.000068</td>\n",
        "      <td> 0.002992</td>\n",
        "      <td> 0.000015</td>\n",
        "      <td> 11/07/14 20:34:31.922545</td>\n",
        "      <td> 'f'</td>\n",
        "      <td> ['&lt;module&gt;']</td>\n",
        "    </tr>\n",
        "    <tr>\n",
        "      <th>5</th>\n",
        "      <td> 7</td>\n",
        "      <td> 0.000091</td>\n",
        "      <td> 0.003989</td>\n",
        "      <td> 0.000014</td>\n",
        "      <td> 11/07/14 20:34:31.922770</td>\n",
        "      <td> 'f'</td>\n",
        "      <td> ['&lt;module&gt;']</td>\n",
        "    </tr>\n",
        "  </tbody>\n",
        "</table>\n",
        "</div>"
       ],
       "metadata": {},
       "output_type": "display_data",
       "text": [
        "          freq         t    retval  elapsed_secs                 timestamp  \\\n",
        "call_num                                                                     \n",
        "1            7  0.000000  0.000000      0.000041  11/07/14 20:34:31.921803   \n",
        "2            7  0.000023  0.000997      0.000016  11/07/14 20:34:31.922090   \n",
        "3            7  0.000045  0.001995      0.000015  11/07/14 20:34:31.922319   \n",
        "4            7  0.000068  0.002992      0.000015  11/07/14 20:34:31.922545   \n",
        "5            7  0.000091  0.003989      0.000014  11/07/14 20:34:31.922770   \n",
        "\n",
        "         prefixed_fname  caller_chain  \n",
        "call_num                               \n",
        "1                   'f'  ['<module>']  \n",
        "2                   'f'  ['<module>']  \n",
        "3                   'f'  ['<module>']  \n",
        "4                   'f'  ['<module>']  \n",
        "5                   'f'  ['<module>']  "
       ]
      },
      {
       "html": [
        "<div style=\"max-height:1000px;max-width:1500px;overflow:auto;\">\n",
        "<table border=\"1\" class=\"dataframe\">\n",
        "  <thead>\n",
        "    <tr style=\"text-align: right;\">\n",
        "      <th></th>\n",
        "      <th>freq</th>\n",
        "      <th>t</th>\n",
        "      <th>retval</th>\n",
        "      <th>elapsed_secs</th>\n",
        "      <th>timestamp</th>\n",
        "      <th>prefixed_fname</th>\n",
        "      <th>caller_chain</th>\n",
        "    </tr>\n",
        "    <tr>\n",
        "      <th>call_num</th>\n",
        "      <th></th>\n",
        "      <th></th>\n",
        "      <th></th>\n",
        "      <th></th>\n",
        "      <th></th>\n",
        "      <th></th>\n",
        "      <th></th>\n",
        "    </tr>\n",
        "  </thead>\n",
        "  <tbody>\n",
        "    <tr>\n",
        "      <th>44096</th>\n",
        "      <td> 7</td>\n",
        "      <td> 0.999887</td>\n",
        "      <td>-0.004986</td>\n",
        "      <td> 0.000012</td>\n",
        "      <td> 11/07/14 20:34:41.982512</td>\n",
        "      <td> 'f'</td>\n",
        "      <td> ['&lt;module&gt;']</td>\n",
        "    </tr>\n",
        "    <tr>\n",
        "      <th>44097</th>\n",
        "      <td> 7</td>\n",
        "      <td> 0.999909</td>\n",
        "      <td>-0.003990</td>\n",
        "      <td> 0.000011</td>\n",
        "      <td> 11/07/14 20:34:41.982698</td>\n",
        "      <td> 'f'</td>\n",
        "      <td> ['&lt;module&gt;']</td>\n",
        "    </tr>\n",
        "    <tr>\n",
        "      <th>44098</th>\n",
        "      <td> 7</td>\n",
        "      <td> 0.999932</td>\n",
        "      <td>-0.002994</td>\n",
        "      <td> 0.000011</td>\n",
        "      <td> 11/07/14 20:34:41.982883</td>\n",
        "      <td> 'f'</td>\n",
        "      <td> ['&lt;module&gt;']</td>\n",
        "    </tr>\n",
        "    <tr>\n",
        "      <th>44099</th>\n",
        "      <td> 7</td>\n",
        "      <td> 0.999955</td>\n",
        "      <td>-0.001995</td>\n",
        "      <td> 0.000015</td>\n",
        "      <td> 11/07/14 20:34:41.983069</td>\n",
        "      <td> 'f'</td>\n",
        "      <td> ['&lt;module&gt;']</td>\n",
        "    </tr>\n",
        "    <tr>\n",
        "      <th>44100</th>\n",
        "      <td> 7</td>\n",
        "      <td> 0.999977</td>\n",
        "      <td>-0.000999</td>\n",
        "      <td> 0.000012</td>\n",
        "      <td> 11/07/14 20:34:41.983258</td>\n",
        "      <td> 'f'</td>\n",
        "      <td> ['&lt;module&gt;']</td>\n",
        "    </tr>\n",
        "  </tbody>\n",
        "</table>\n",
        "</div>"
       ],
       "metadata": {},
       "output_type": "display_data",
       "text": [
        "          freq         t    retval  elapsed_secs                 timestamp  \\\n",
        "call_num                                                                     \n",
        "44096        7  0.999887 -0.004986      0.000012  11/07/14 20:34:41.982512   \n",
        "44097        7  0.999909 -0.003990      0.000011  11/07/14 20:34:41.982698   \n",
        "44098        7  0.999932 -0.002994      0.000011  11/07/14 20:34:41.982883   \n",
        "44099        7  0.999955 -0.001995      0.000015  11/07/14 20:34:41.983069   \n",
        "44100        7  0.999977 -0.000999      0.000012  11/07/14 20:34:41.983258   \n",
        "\n",
        "         prefixed_fname  caller_chain  \n",
        "call_num                               \n",
        "44096               'f'  ['<module>']  \n",
        "44097               'f'  ['<module>']  \n",
        "44098               'f'  ['<module>']  \n",
        "44099               'f'  ['<module>']  \n",
        "44100               'f'  ['<module>']  "
       ]
      }
     ],
     "prompt_number": 308
    },
    {
     "cell_type": "code",
     "collapsed": false,
     "input": [
      "df[:5]"
     ],
     "language": "python",
     "metadata": {},
     "outputs": [
      {
       "html": [
        "<div style=\"max-height:1000px;max-width:1500px;overflow:auto;\">\n",
        "<table border=\"1\" class=\"dataframe\">\n",
        "  <thead>\n",
        "    <tr style=\"text-align: right;\">\n",
        "      <th></th>\n",
        "      <th>freq</th>\n",
        "      <th>t</th>\n",
        "      <th>retval</th>\n",
        "      <th>elapsed_secs</th>\n",
        "      <th>timestamp</th>\n",
        "      <th>prefixed_fname</th>\n",
        "      <th>caller_chain</th>\n",
        "    </tr>\n",
        "    <tr>\n",
        "      <th>call_num</th>\n",
        "      <th></th>\n",
        "      <th></th>\n",
        "      <th></th>\n",
        "      <th></th>\n",
        "      <th></th>\n",
        "      <th></th>\n",
        "      <th></th>\n",
        "    </tr>\n",
        "  </thead>\n",
        "  <tbody>\n",
        "    <tr>\n",
        "      <th>1</th>\n",
        "      <td> 7</td>\n",
        "      <td> 0.000000</td>\n",
        "      <td> 0.000000</td>\n",
        "      <td> 0.000041</td>\n",
        "      <td> 11/07/14 20:34:31.921803</td>\n",
        "      <td> 'f'</td>\n",
        "      <td> ['&lt;module&gt;']</td>\n",
        "    </tr>\n",
        "    <tr>\n",
        "      <th>2</th>\n",
        "      <td> 7</td>\n",
        "      <td> 0.000023</td>\n",
        "      <td> 0.000997</td>\n",
        "      <td> 0.000016</td>\n",
        "      <td> 11/07/14 20:34:31.922090</td>\n",
        "      <td> 'f'</td>\n",
        "      <td> ['&lt;module&gt;']</td>\n",
        "    </tr>\n",
        "    <tr>\n",
        "      <th>3</th>\n",
        "      <td> 7</td>\n",
        "      <td> 0.000045</td>\n",
        "      <td> 0.001995</td>\n",
        "      <td> 0.000015</td>\n",
        "      <td> 11/07/14 20:34:31.922319</td>\n",
        "      <td> 'f'</td>\n",
        "      <td> ['&lt;module&gt;']</td>\n",
        "    </tr>\n",
        "    <tr>\n",
        "      <th>4</th>\n",
        "      <td> 7</td>\n",
        "      <td> 0.000068</td>\n",
        "      <td> 0.002992</td>\n",
        "      <td> 0.000015</td>\n",
        "      <td> 11/07/14 20:34:31.922545</td>\n",
        "      <td> 'f'</td>\n",
        "      <td> ['&lt;module&gt;']</td>\n",
        "    </tr>\n",
        "    <tr>\n",
        "      <th>5</th>\n",
        "      <td> 7</td>\n",
        "      <td> 0.000091</td>\n",
        "      <td> 0.003989</td>\n",
        "      <td> 0.000014</td>\n",
        "      <td> 11/07/14 20:34:31.922770</td>\n",
        "      <td> 'f'</td>\n",
        "      <td> ['&lt;module&gt;']</td>\n",
        "    </tr>\n",
        "  </tbody>\n",
        "</table>\n",
        "</div>"
       ],
       "metadata": {},
       "output_type": "pyout",
       "prompt_number": 309,
       "text": [
        "          freq         t    retval  elapsed_secs                 timestamp  \\\n",
        "call_num                                                                     \n",
        "1            7  0.000000  0.000000      0.000041  11/07/14 20:34:31.921803   \n",
        "2            7  0.000023  0.000997      0.000016  11/07/14 20:34:31.922090   \n",
        "3            7  0.000045  0.001995      0.000015  11/07/14 20:34:31.922319   \n",
        "4            7  0.000068  0.002992      0.000015  11/07/14 20:34:31.922545   \n",
        "5            7  0.000091  0.003989      0.000014  11/07/14 20:34:31.922770   \n",
        "\n",
        "         prefixed_fname  caller_chain  \n",
        "call_num                               \n",
        "1                   'f'  ['<module>']  \n",
        "2                   'f'  ['<module>']  \n",
        "3                   'f'  ['<module>']  \n",
        "4                   'f'  ['<module>']  \n",
        "5                   'f'  ['<module>']  "
       ]
      }
     ],
     "prompt_number": 309
    },
    {
     "cell_type": "code",
     "collapsed": false,
     "input": [
      "len(f.stats.history)"
     ],
     "language": "python",
     "metadata": {},
     "outputs": [
      {
       "metadata": {},
       "output_type": "pyout",
       "prompt_number": 311,
       "text": [
        "44100"
       ]
      }
     ],
     "prompt_number": 311
    },
    {
     "cell_type": "code",
     "collapsed": false,
     "input": [
      "df[['t', 'retval']].head()"
     ],
     "language": "python",
     "metadata": {},
     "outputs": [
      {
       "html": [
        "<div style=\"max-height:1000px;max-width:1500px;overflow:auto;\">\n",
        "<table border=\"1\" class=\"dataframe\">\n",
        "  <thead>\n",
        "    <tr style=\"text-align: right;\">\n",
        "      <th></th>\n",
        "      <th>t</th>\n",
        "      <th>retval</th>\n",
        "    </tr>\n",
        "    <tr>\n",
        "      <th>call_num</th>\n",
        "      <th></th>\n",
        "      <th></th>\n",
        "    </tr>\n",
        "  </thead>\n",
        "  <tbody>\n",
        "    <tr>\n",
        "      <th>1</th>\n",
        "      <td> 0.000000</td>\n",
        "      <td> 0.000000</td>\n",
        "    </tr>\n",
        "    <tr>\n",
        "      <th>2</th>\n",
        "      <td> 0.000023</td>\n",
        "      <td> 0.000997</td>\n",
        "    </tr>\n",
        "    <tr>\n",
        "      <th>3</th>\n",
        "      <td> 0.000045</td>\n",
        "      <td> 0.001995</td>\n",
        "    </tr>\n",
        "    <tr>\n",
        "      <th>4</th>\n",
        "      <td> 0.000068</td>\n",
        "      <td> 0.002992</td>\n",
        "    </tr>\n",
        "    <tr>\n",
        "      <th>5</th>\n",
        "      <td> 0.000091</td>\n",
        "      <td> 0.003989</td>\n",
        "    </tr>\n",
        "  </tbody>\n",
        "</table>\n",
        "</div>"
       ],
       "metadata": {},
       "output_type": "pyout",
       "prompt_number": 312,
       "text": [
        "                 t    retval\n",
        "call_num                    \n",
        "1         0.000000  0.000000\n",
        "2         0.000023  0.000997\n",
        "3         0.000045  0.001995\n",
        "4         0.000068  0.002992\n",
        "5         0.000091  0.003989"
       ]
      }
     ],
     "prompt_number": 312
    },
    {
     "cell_type": "code",
     "collapsed": false,
     "input": [
      "plt.plot(df.t, df.retval);"
     ],
     "language": "python",
     "metadata": {},
     "outputs": [
      {
       "metadata": {},
       "output_type": "display_data",
       "png": "[encoded data removed]",
       "text": [
        "<matplotlib.figure.Figure at 0x110d62048>"
       ]
      }
     ],
     "prompt_number": 313
    },
    {
     "cell_type": "code",
     "collapsed": false,
     "input": [],
     "language": "python",
     "metadata": {},
     "outputs": []
    }
   ],
   "metadata": {}
  }
 ]
}